{
 "metadata": {
  "language_info": {
   "codemirror_mode": {
    "name": "ipython",
    "version": 3
   },
   "file_extension": ".py",
   "mimetype": "text/x-python",
   "name": "python",
   "nbconvert_exporter": "python",
   "pygments_lexer": "ipython3",
   "version": "3.8.6"
  },
  "orig_nbformat": 2,
  "kernelspec": {
   "name": "pythonjvsc74a57bd038c787868226c6023b086d840f5ce8eea0efc55ae14495915c2a3169f21aa9d4",
   "display_name": "Python 3.8.6  ('.venv': venv)"
  },
  "metadata": {
   "interpreter": {
    "hash": "38c787868226c6023b086d840f5ce8eea0efc55ae14495915c2a3169f21aa9d4"
   }
  }
 },
 "nbformat": 4,
 "nbformat_minor": 2,
 "cells": [
  {
   "cell_type": "code",
   "execution_count": 2,
   "metadata": {},
   "outputs": [],
   "source": [
    "import pandas as pd\n",
    "import plotly.express as px"
   ]
  },
  {
   "cell_type": "code",
   "execution_count": 9,
   "metadata": {},
   "outputs": [
    {
     "output_type": "stream",
     "name": "stdout",
     "text": [
      "<class 'pandas.core.frame.DataFrame'>\nRangeIndex: 57946035 entries, 0 to 57946034\nData columns (total 1 columns):\n #   Column      Dtype \n---  ------      ----- \n 0   membership  object\ndtypes: object(1)\nmemory usage: 442.1+ MB\n"
     ]
    }
   ],
   "source": [
    "df = pd.read_csv('../data/chats.csv', usecols=['membership'])\n",
    "df.info()"
   ]
  },
  {
   "cell_type": "code",
   "execution_count": 10,
   "metadata": {},
   "outputs": [
    {
     "output_type": "execute_result",
     "data": {
      "text/plain": [
       "array([nan, '1 year', '2 months', '6 months', '1 month', 'within 1 month',\n",
       "       '2 years'], dtype=object)"
      ]
     },
     "metadata": {},
     "execution_count": 10
    }
   ],
   "source": [
    "df['membership'].unique()"
   ]
  }
 ]
}